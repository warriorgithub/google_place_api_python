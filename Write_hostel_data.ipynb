{
 "cells": [
  {
   "cell_type": "code",
   "execution_count": 1,
   "metadata": {},
   "outputs": [],
   "source": [
    "import pandas as pd"
   ]
  },
  {
   "cell_type": "code",
   "execution_count": null,
   "metadata": {},
   "outputs": [],
   "source": [
    "with open('contect.txt','r') as f:\n",
    "    lines = f.readlines()\n",
    "    count=0;\n",
    "    for line in lines:\n",
    "        if line.find('Response parameter')!=-1:\n",
    "           # count+=1\n",
    "            #print(count)\n",
    "            print(line.strip())"
   ]
  },
  {
   "cell_type": "code",
   "execution_count": 53,
   "metadata": {},
   "outputs": [],
   "source": [
    "data = pd.read_csv('south_delhi_hostels_list.txt', sep=\"|\",header=None)\n",
    "data.columns = ['hostel_name','address','phone','url']"
   ]
  },
  {
   "cell_type": "code",
   "execution_count": 54,
   "metadata": {},
   "outputs": [
    {
     "data": {
      "text/html": [
       "<div>\n",
       "<style scoped>\n",
       "    .dataframe tbody tr th:only-of-type {\n",
       "        vertical-align: middle;\n",
       "    }\n",
       "\n",
       "    .dataframe tbody tr th {\n",
       "        vertical-align: top;\n",
       "    }\n",
       "\n",
       "    .dataframe thead th {\n",
       "        text-align: right;\n",
       "    }\n",
       "</style>\n",
       "<table border=\"1\" class=\"dataframe\">\n",
       "  <thead>\n",
       "    <tr style=\"text-align: right;\">\n",
       "      <th></th>\n",
       "      <th>hostel_name</th>\n",
       "      <th>address</th>\n",
       "      <th>phone</th>\n",
       "      <th>url</th>\n",
       "    </tr>\n",
       "  </thead>\n",
       "  <tbody>\n",
       "    <tr>\n",
       "      <th>0</th>\n",
       "      <td>Response parameter Chawla PG For Girls II New ...</td>\n",
       "      <td>E-2, Block E, Anand Niketan, New Delhi, Delhi...</td>\n",
       "      <td>098104 66681</td>\n",
       "      <td>https://maps.google.com/?cid=6485466615814906160</td>\n",
       "    </tr>\n",
       "    <tr>\n",
       "      <th>1</th>\n",
       "      <td>Response parameter Andhra Executive Paying Guest</td>\n",
       "      <td>K - 21 , Inside gate no 2, near Krishna Mandi...</td>\n",
       "      <td>099118 89990</td>\n",
       "      <td>https://maps.google.com/?cid=1495843114385042...</td>\n",
       "    </tr>\n",
       "    <tr>\n",
       "      <th>2</th>\n",
       "      <td>Response parameter Jetley Paying Guest PG For ...</td>\n",
       "      <td>N-136, N Block, Greater Kailash I, Greater Ka...</td>\n",
       "      <td>088822 25000</td>\n",
       "      <td>https://maps.google.com/?cid=1242987494194447306</td>\n",
       "    </tr>\n",
       "    <tr>\n",
       "      <th>3</th>\n",
       "      <td>Response parameter Bhatia Paying Guest</td>\n",
       "      <td>C-24, Khirki Extension, Panchsheel Vihar, She...</td>\n",
       "      <td>099990 15158</td>\n",
       "      <td>https://maps.google.com/?cid=1046602348602930...</td>\n",
       "    </tr>\n",
       "    <tr>\n",
       "      <th>4</th>\n",
       "      <td>Response parameter Uppal's PG (Paying Guest) H...</td>\n",
       "      <td>F 135, Ground Floor, Gurudware, Matke Wali Ga...</td>\n",
       "      <td>070111 83381</td>\n",
       "      <td>https://maps.google.com/?cid=1374452506103753...</td>\n",
       "    </tr>\n",
       "  </tbody>\n",
       "</table>\n",
       "</div>"
      ],
      "text/plain": [
       "                                         hostel_name  \\\n",
       "0  Response parameter Chawla PG For Girls II New ...   \n",
       "1  Response parameter Andhra Executive Paying Guest    \n",
       "2  Response parameter Jetley Paying Guest PG For ...   \n",
       "3            Response parameter Bhatia Paying Guest    \n",
       "4  Response parameter Uppal's PG (Paying Guest) H...   \n",
       "\n",
       "                                             address           phone  \\\n",
       "0   E-2, Block E, Anand Niketan, New Delhi, Delhi...   098104 66681    \n",
       "1   K - 21 , Inside gate no 2, near Krishna Mandi...   099118 89990    \n",
       "2   N-136, N Block, Greater Kailash I, Greater Ka...   088822 25000    \n",
       "3   C-24, Khirki Extension, Panchsheel Vihar, She...   099990 15158    \n",
       "4   F 135, Ground Floor, Gurudware, Matke Wali Ga...   070111 83381    \n",
       "\n",
       "                                                 url  \n",
       "0   https://maps.google.com/?cid=6485466615814906160  \n",
       "1   https://maps.google.com/?cid=1495843114385042...  \n",
       "2   https://maps.google.com/?cid=1242987494194447306  \n",
       "3   https://maps.google.com/?cid=1046602348602930...  \n",
       "4   https://maps.google.com/?cid=1374452506103753...  "
      ]
     },
     "execution_count": 54,
     "metadata": {},
     "output_type": "execute_result"
    }
   ],
   "source": [
    "data.head()"
   ]
  },
  {
   "cell_type": "code",
   "execution_count": 55,
   "metadata": {},
   "outputs": [],
   "source": [
    "def remove_str(string):\n",
    "    string = string[19:]  #Remove 'Response parameter' string from hostel name\n",
    "    return string"
   ]
  },
  {
   "cell_type": "code",
   "execution_count": 56,
   "metadata": {},
   "outputs": [],
   "source": [
    "data['hostel_name'] = data['hostel_name'].apply(lambda x:remove_str(x))"
   ]
  },
  {
   "cell_type": "code",
   "execution_count": 57,
   "metadata": {},
   "outputs": [
    {
     "data": {
      "text/html": [
       "<div>\n",
       "<style scoped>\n",
       "    .dataframe tbody tr th:only-of-type {\n",
       "        vertical-align: middle;\n",
       "    }\n",
       "\n",
       "    .dataframe tbody tr th {\n",
       "        vertical-align: top;\n",
       "    }\n",
       "\n",
       "    .dataframe thead th {\n",
       "        text-align: right;\n",
       "    }\n",
       "</style>\n",
       "<table border=\"1\" class=\"dataframe\">\n",
       "  <thead>\n",
       "    <tr style=\"text-align: right;\">\n",
       "      <th></th>\n",
       "      <th>hostel_name</th>\n",
       "      <th>address</th>\n",
       "      <th>phone</th>\n",
       "      <th>url</th>\n",
       "    </tr>\n",
       "  </thead>\n",
       "  <tbody>\n",
       "    <tr>\n",
       "      <th>0</th>\n",
       "      <td>Chawla PG For Girls II New Delhi</td>\n",
       "      <td>E-2, Block E, Anand Niketan, New Delhi, Delhi...</td>\n",
       "      <td>098104 66681</td>\n",
       "      <td>https://maps.google.com/?cid=6485466615814906160</td>\n",
       "    </tr>\n",
       "    <tr>\n",
       "      <th>1</th>\n",
       "      <td>Andhra Executive Paying Guest</td>\n",
       "      <td>K - 21 , Inside gate no 2, near Krishna Mandi...</td>\n",
       "      <td>099118 89990</td>\n",
       "      <td>https://maps.google.com/?cid=1495843114385042...</td>\n",
       "    </tr>\n",
       "    <tr>\n",
       "      <th>2</th>\n",
       "      <td>Jetley Paying Guest PG For Girls Hostel LSR Ga...</td>\n",
       "      <td>N-136, N Block, Greater Kailash I, Greater Ka...</td>\n",
       "      <td>088822 25000</td>\n",
       "      <td>https://maps.google.com/?cid=1242987494194447306</td>\n",
       "    </tr>\n",
       "    <tr>\n",
       "      <th>3</th>\n",
       "      <td>Bhatia Paying Guest</td>\n",
       "      <td>C-24, Khirki Extension, Panchsheel Vihar, She...</td>\n",
       "      <td>099990 15158</td>\n",
       "      <td>https://maps.google.com/?cid=1046602348602930...</td>\n",
       "    </tr>\n",
       "    <tr>\n",
       "      <th>4</th>\n",
       "      <td>Uppal's PG (Paying Guest) Hostel</td>\n",
       "      <td>F 135, Ground Floor, Gurudware, Matke Wali Ga...</td>\n",
       "      <td>070111 83381</td>\n",
       "      <td>https://maps.google.com/?cid=1374452506103753...</td>\n",
       "    </tr>\n",
       "  </tbody>\n",
       "</table>\n",
       "</div>"
      ],
      "text/plain": [
       "                                         hostel_name  \\\n",
       "0                  Chawla PG For Girls II New Delhi    \n",
       "1                     Andhra Executive Paying Guest    \n",
       "2  Jetley Paying Guest PG For Girls Hostel LSR Ga...   \n",
       "3                               Bhatia Paying Guest    \n",
       "4                  Uppal's PG (Paying Guest) Hostel    \n",
       "\n",
       "                                             address           phone  \\\n",
       "0   E-2, Block E, Anand Niketan, New Delhi, Delhi...   098104 66681    \n",
       "1   K - 21 , Inside gate no 2, near Krishna Mandi...   099118 89990    \n",
       "2   N-136, N Block, Greater Kailash I, Greater Ka...   088822 25000    \n",
       "3   C-24, Khirki Extension, Panchsheel Vihar, She...   099990 15158    \n",
       "4   F 135, Ground Floor, Gurudware, Matke Wali Ga...   070111 83381    \n",
       "\n",
       "                                                 url  \n",
       "0   https://maps.google.com/?cid=6485466615814906160  \n",
       "1   https://maps.google.com/?cid=1495843114385042...  \n",
       "2   https://maps.google.com/?cid=1242987494194447306  \n",
       "3   https://maps.google.com/?cid=1046602348602930...  \n",
       "4   https://maps.google.com/?cid=1374452506103753...  "
      ]
     },
     "execution_count": 57,
     "metadata": {},
     "output_type": "execute_result"
    }
   ],
   "source": [
    "data.head()"
   ]
  },
  {
   "cell_type": "code",
   "execution_count": 58,
   "metadata": {},
   "outputs": [],
   "source": [
    "data.to_csv('south_delhi_hostel_1.csv')"
   ]
  },
  {
   "cell_type": "code",
   "execution_count": null,
   "metadata": {},
   "outputs": [],
   "source": []
  }
 ],
 "metadata": {
  "kernelspec": {
   "display_name": "Python 3.6.10 64-bit ('venom_env': conda)",
   "language": "python",
   "name": "python361064bitvenomenvcondab0d29e335f0644d48fb3b977bf3554b1"
  },
  "language_info": {
   "codemirror_mode": {
    "name": "ipython",
    "version": 3
   },
   "file_extension": ".py",
   "mimetype": "text/x-python",
   "name": "python",
   "nbconvert_exporter": "python",
   "pygments_lexer": "ipython3",
   "version": "3.6.10"
  }
 },
 "nbformat": 4,
 "nbformat_minor": 4
}
